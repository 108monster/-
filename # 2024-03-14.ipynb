{
 "cells": [
  {
   "cell_type": "markdown",
   "id": "eeae5adc",
   "metadata": {},
   "source": [
    "# 2024-03-14"
   ]
  },
  {
   "cell_type": "markdown",
   "id": "d4f1f9d3",
   "metadata": {},
   "source": [
    "오늘 물리 실험 발표 잘했으니 기념으로 공부하자\n",
    "\n",
    "___\n",
    "\n",
    "셀의 끝에 있는 코드는 print가 없어도 작동이 된다\n",
    "___\n",
    "\n",
    "NUMPY란 numerical python의 줄임말로 데이터 사이언스에서 매우 중요하다\n",
    "\n",
    "왜냐하면 데이터 사이언스에서는 많은 데이터를 다루는데 \n",
    "\n",
    "파이썬의 리스트와 비슷한 개념의 array가 많은 힘이 되어준다"
   ]
  },
  {
   "cell_type": "code",
   "execution_count": 10,
   "id": "6bde3aec",
   "metadata": {},
   "outputs": [
    {
     "name": "stdout",
     "output_type": "stream",
     "text": [
      "<class 'numpy.ndarray'>\n",
      "(5,)\n",
      "(3, 4)\n"
     ]
    }
   ],
   "source": [
    "import numpy\n",
    "\n",
    "array1 = numpy.array([2, 4, 8, 10, 70])  # 파라미터로 파이썬 리스트를 넘겨줌\n",
    "print(type(array1))\n",
    "print(array1.shape)  \n",
    "\n",
    "array2 = numpy.array([[1, 2, 3, 4], [5, 6, 7, 8], [9, 10, 11, 12]])\n",
    "print(array2.shape)"
   ]
  },
  {
   "cell_type": "markdown",
   "id": "2ef7038e",
   "metadata": {},
   "source": [
    "2차원 array라는 게 있다고 한다 위에 (3, 4)는 3줄 4행짜리 array라는 뜻이라고 한다\n",
    "\n",
    "array를 만드는 방법은\n",
    "\n",
    "`numpy.array(파이썬 리스트)`\n",
    "\n",
    "`numpy.full(6, 7)` 7을 6개 넣으라는 뜻\n",
    "\n",
    "`numpy.zeros(6, dtype=int)` 0으로 채울 때\n",
    "\n",
    "`numpy.ones(6, dtype=int)` 1로 채울 때\n",
    "\n",
    "오 numpy를 불러오면 그 안에 random이 들어있구나! \n",
    "\n",
    "`numpy.random.random(6)` 6개의 랜덤 값으로 채우기\n",
    "\n",
    "`numpy.arange(6)` 파이썬의 range와 거의 흡사 0부터 6개 array + range라서 arange인듯\n",
    "\n",
    "당연히 (2, 9) 2부터 9개도 되고 (2, 10, 2) 2부터 10개 2간격으로도 가능하다"
   ]
  },
  {
   "cell_type": "markdown",
   "id": "6a4fbd43",
   "metadata": {},
   "source": [
    "___\n",
    "numpy.000하기가 너무 귀찮다 그럴때는\n",
    "\n",
    "`import numpy as np`라고 해주면 np로 numpy를 대체 가능하다\n",
    "\n",
    "이런거를 일리어스, 일리어싱이라고 부른다\n",
    "\n"
   ]
  }
 ],
 "metadata": {
  "kernelspec": {
   "display_name": "Python 3 (ipykernel)",
   "language": "python",
   "name": "python3"
  },
  "language_info": {
   "codemirror_mode": {
    "name": "ipython",
    "version": 3
   },
   "file_extension": ".py",
   "mimetype": "text/x-python",
   "name": "python",
   "nbconvert_exporter": "python",
   "pygments_lexer": "ipython3",
   "version": "3.9.13"
  }
 },
 "nbformat": 4,
 "nbformat_minor": 5
}
