{
 "cells": [
  {
   "cell_type": "markdown",
   "id": "27cc1716",
   "metadata": {},
   "source": [
    "### 실습 설명\n",
    "\n",
    "1 이상 100 이하의 자연수(수나 순서를 셀 때 쓰는 1, 2, 3 과 같은 수) 중 3의 배수만 담겨 있는 numpy array를 생성하고 출력해 주세요."
   ]
  },
  {
   "cell_type": "code",
   "execution_count": 1,
   "id": "67765ba7",
   "metadata": {},
   "outputs": [
    {
     "data": {
      "text/plain": [
       "array([ 3,  6,  9, 12, 15, 18, 21, 24, 27, 30, 33, 36, 39, 42, 45, 48, 51,\n",
       "       54, 57, 60, 63, 66, 69, 72, 75, 78, 81, 84, 87, 90, 93, 96, 99])"
      ]
     },
     "execution_count": 1,
     "metadata": {},
     "output_type": "execute_result"
    }
   ],
   "source": [
    "import numpy as np\n",
    "\n",
    "arr = np.arange(3, 100, 3)\n",
    "\n",
    "arr"
   ]
  },
  {
   "cell_type": "markdown",
   "id": "477578b0",
   "metadata": {},
   "source": [
    "___\n",
    "### array의 인덱싱과 슬라이싱"
   ]
  },
  {
   "cell_type": "markdown",
   "id": "5e390b60",
   "metadata": {},
   "source": [
    "리스트처럼 인덱싱도 할 수 있다\n",
    "\n",
    "살짝 다른건 인덱스에 리스트를 집어 넣을 수도 있다는 것이다"
   ]
  },
  {
   "cell_type": "code",
   "execution_count": 3,
   "id": "f0ca5dc0",
   "metadata": {},
   "outputs": [
    {
     "data": {
      "text/plain": [
       "99"
      ]
     },
     "execution_count": 3,
     "metadata": {},
     "output_type": "execute_result"
    }
   ],
   "source": [
    "arr[2]"
   ]
  },
  {
   "cell_type": "code",
   "execution_count": 4,
   "id": "2b17af88",
   "metadata": {},
   "outputs": [
    {
     "data": {
      "text/plain": [
       "99"
      ]
     },
     "execution_count": 4,
     "metadata": {},
     "output_type": "execute_result"
    }
   ],
   "source": [
    "arr[-1]"
   ]
  },
  {
   "cell_type": "code",
   "execution_count": 5,
   "id": "190db1c1",
   "metadata": {},
   "outputs": [
    {
     "data": {
      "text/plain": [
       "array([12, 30, 54])"
      ]
     },
     "execution_count": 5,
     "metadata": {},
     "output_type": "execute_result"
    }
   ],
   "source": [
    "arr[[3, 9, 17]]"
   ]
  },
  {
   "cell_type": "markdown",
   "id": "26937c9e",
   "metadata": {},
   "source": [
    "심지어 이런 복잡한 것도 가능하다 리스트를 집어 넣는 것이 아니라 array를 집어 넣는 것..."
   ]
  },
  {
   "cell_type": "code",
   "execution_count": 6,
   "id": "f5a750c8",
   "metadata": {},
   "outputs": [
    {
     "data": {
      "text/plain": [
       "array([15, 18, 60, 81])"
      ]
     },
     "execution_count": 6,
     "metadata": {},
     "output_type": "execute_result"
    }
   ],
   "source": [
    "array1 = [4, 5, 19, 26]\n",
    "arr[array1]"
   ]
  },
  {
   "cell_type": "markdown",
   "id": "cc54e93e",
   "metadata": {},
   "source": [
    "array는 슬라이싱도 할 수가 있다 ㅎㄷㄷ"
   ]
  },
  {
   "cell_type": "code",
   "execution_count": 7,
   "id": "652e1df9",
   "metadata": {},
   "outputs": [
    {
     "data": {
      "text/plain": [
       "array([12, 15, 18, 21, 24, 27, 30, 33, 36, 39, 42, 45, 48, 51, 54, 57, 60,\n",
       "       63, 66, 69])"
      ]
     },
     "execution_count": 7,
     "metadata": {},
     "output_type": "execute_result"
    }
   ],
   "source": [
    "arr[3:23]"
   ]
  },
  {
   "cell_type": "markdown",
   "id": "46ac210b",
   "metadata": {},
   "source": [
    "array는 리스트와는 다르게 슬라이싱 할 때 뛰어넘기가 가능하다"
   ]
  },
  {
   "cell_type": "code",
   "execution_count": 8,
   "id": "5b456f10",
   "metadata": {},
   "outputs": [
    {
     "data": {
      "text/plain": [
       "array([12, 18, 24, 30, 36, 42, 48, 54, 60, 66])"
      ]
     },
     "execution_count": 8,
     "metadata": {},
     "output_type": "execute_result"
    }
   ],
   "source": [
    "arr[3:23:2]"
   ]
  },
  {
   "cell_type": "markdown",
   "id": "99b4e60d",
   "metadata": {},
   "source": [
    "___\n",
    "### numpy의 기본 연산"
   ]
  },
  {
   "cell_type": "markdown",
   "id": "fb4f869f",
   "metadata": {},
   "source": [
    "리스트의 값들을 모두 * 2 하고 싶다면 리스트는 이렇게 해야한다"
   ]
  },
  {
   "cell_type": "code",
   "execution_count": 9,
   "id": "ef0dc59f",
   "metadata": {},
   "outputs": [
    {
     "data": {
      "text/plain": [
       "[0, 2, 4, 6, 8, 10, 12, 14, 16, 18, 20]"
      ]
     },
     "execution_count": 9,
     "metadata": {},
     "output_type": "execute_result"
    }
   ],
   "source": [
    "list1 = [0, 1, 2, 3, 4, 5, 6, 7, 8, 9, 10]\n",
    "\n",
    "for i in list1:\n",
    "    list1[i] = 2 * list1[i]\n",
    "    \n",
    "list1"
   ]
  },
  {
   "cell_type": "markdown",
   "id": "99a76e2a",
   "metadata": {},
   "source": [
    "그러나 array는 다르다"
   ]
  },
  {
   "cell_type": "code",
   "execution_count": 10,
   "id": "68cffc58",
   "metadata": {},
   "outputs": [
    {
     "data": {
      "text/plain": [
       "array([  6,  12,  18,  24,  30,  36,  42,  48,  54,  60,  66,  72,  78,\n",
       "        84,  90,  96, 102, 108, 114, 120, 126, 132, 138, 144, 150, 156,\n",
       "       162, 168, 174, 180, 186, 192, 198])"
      ]
     },
     "execution_count": 10,
     "metadata": {},
     "output_type": "execute_result"
    }
   ],
   "source": [
    "arr * 2"
   ]
  },
  {
   "cell_type": "markdown",
   "id": "5b06eb16",
   "metadata": {},
   "source": [
    "이거면 끝난다"
   ]
  },
  {
   "cell_type": "code",
   "execution_count": null,
   "id": "c69bfa88",
   "metadata": {},
   "outputs": [],
   "source": []
  }
 ],
 "metadata": {
  "kernelspec": {
   "display_name": "Python 3 (ipykernel)",
   "language": "python",
   "name": "python3"
  },
  "language_info": {
   "codemirror_mode": {
    "name": "ipython",
    "version": 3
   },
   "file_extension": ".py",
   "mimetype": "text/x-python",
   "name": "python",
   "nbconvert_exporter": "python",
   "pygments_lexer": "ipython3",
   "version": "3.9.13"
  }
 },
 "nbformat": 4,
 "nbformat_minor": 5
}
