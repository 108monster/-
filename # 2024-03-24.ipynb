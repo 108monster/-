{
 "cells": [
  {
   "cell_type": "markdown",
   "id": "dfe921bb",
   "metadata": {},
   "source": [
    "# 데이터프레임 인덱싱"
   ]
  },
  {
   "cell_type": "markdown",
   "id": "114ddbac",
   "metadata": {},
   "source": [
    "데이터프레임 인덱싱 복습 + 새로운 거 배우기\n",
    "\n",
    "`데이터프레임.loc['인덱스1']` 이러면 인덱스1만 뽑아서 나온다\n",
    "\n",
    "`데이터프레임.loc['인덱스1', '콜롬1']` 이러면 인덱스1과 콜롬1에 해당하는 값만 나온다\n",
    "\n",
    "여러 인덱스를 뽑고 싶으면 그냥\n",
    "\n",
    "`데이터프레임.loc['인덱스1', '인덱스3']`\n",
    "\n",
    "여러 콜롬을 뽑고 싶으면 반대로 하면 된다\n",
    "\n",
    "슬라이싱도 있는데 사실 이거만 이해하면 다 이해한거다\n",
    "\n",
    "`데이터프레임.loc['인덱스1' : '인덱스 4', '콜롬2' : '콜롬6']`"
   ]
  },
  {
   "cell_type": "markdown",
   "id": "edccb99b",
   "metadata": {},
   "source": [
    "___\n",
    "# 실습 설명"
   ]
  },
  {
   "cell_type": "markdown",
   "id": "3d02a624",
   "metadata": {},
   "source": [
    "방송사는 'KBS'에서 'SBS'까지, 연도는 2012년부터 2017년까지의 시청률만 확인하려면 어떻게 하면 될까요?"
   ]
  },
  {
   "cell_type": "markdown",
   "id": "f9d63773",
   "metadata": {},
   "source": [
    "`,KBS,MBC,SBS,TV CHOSUN,JTBC,Channel A,MBN\n",
    "2011,35.951,18.374,11.173,9.102,7.38,3.771,2.809\n",
    "2012,36.163,16.022,11.408,8.785,7.878,5.874,3.31\n",
    "2013,31.989,16.778,9.673,9.026,7.81,5.35,3.825\n",
    "2014,31.21,15.663,9.108,9.44,7.49,5.776,4.572\n",
    "2015,27.777,16.573,9.099,9.94,7.267,6.678,5.52\n",
    "2016,27.583,14.982,8.669,9.829,7.727,6.624,5.477\n",
    "2017,26.89,12.465,8.661,8.886,9.453,6.056,5.215`"
   ]
  },
  {
   "cell_type": "code",
   "execution_count": null,
   "id": "06ef8434",
   "metadata": {},
   "outputs": [],
   "source": [
    "import pandas as pd\n",
    "\n",
    "df = pd.read_csv('data/broadcast.csv', index_col=0)\n",
    "\n",
    "df.loc[2012 : 2017, 'KBS' : 'SBS']"
   ]
  },
  {
   "cell_type": "markdown",
   "id": "2f5bda8a",
   "metadata": {},
   "source": [
    "간단하게 복습하는 느낌으로 가볍게 넘기면 될 것 같다"
   ]
  },
  {
   "cell_type": "markdown",
   "id": "d1894ed6",
   "metadata": {},
   "source": [
    "___\n",
    "# 데이터프레임 조건으로 인덱싱"
   ]
  },
  {
   "cell_type": "markdown",
   "id": "cce11624",
   "metadata": {},
   "source": [
    "인덱싱을 할 때 .loc[여기에 조건을 넣으면]\n",
    "\n",
    "True만 인정된다\n",
    "\n",
    "[여기 안에 리스트를 넣으면 된다] 예를 들어\n",
    "\n",
    "[True, True, False, True, False]이러면 \n",
    "\n",
    "0번 1번 3번이 출력되고 2번 4번은 출력되지 않는다 \n",
    "\n",
    "만약 인덱스가 5개가 넘어간다면 그 뒤는 다 False 처리된다\n",
    "\n",
    "이것도 당연히 인덱스와 콜롬을 구분해서 사용할 수가 있다"
   ]
  },
  {
   "cell_type": "markdown",
   "id": "c90f5eaf",
   "metadata": {},
   "source": [
    "`데이터프레임['콜롬3'] > 5` 이러면 콜롬3이 5보다 큰 녀석들만 True가 나오고\n",
    "\n",
    "위의 불린 값이 담긴 리스트를 응용하는 느낌으로 \n",
    "\n",
    "데이터프레임.loc[데이터프레임['콜롬3'] > 5] 이러면\n",
    "\n",
    "콜롬3가 5보다 큰 녀석들만 나온다\n",
    "\n",
    "이제 인덱스랑 콜롬을 같이 거르고 싶으면 \n",
    "\n",
    "데이터프레임.loc[(테이터프레임['인덱스3'] == '윤민준') & (데이터프레임['콜롬3'] > 5)]\n",
    "\n",
    "이런 식으로 하면 된다"
   ]
  },
  {
   "cell_type": "markdown",
   "id": "0a3df4d4",
   "metadata": {},
   "source": [
    "___\n",
    "# 실습 설명"
   ]
  },
  {
   "cell_type": "markdown",
   "id": "8d60e659",
   "metadata": {},
   "source": [
    "'KBS'에서 시청률이 30이 넘은 데이터만 확인해보려면 어떻게 하면 될까요?"
   ]
  },
  {
   "cell_type": "markdown",
   "id": "18461c8f",
   "metadata": {},
   "source": [
    "여기서 문제가 리스트를 받아오는 것까지는 되는데\n",
    "\n",
    "받아오고 그걸 데이터프레임에 넣으면 kbs만 나오지는 않는다\n",
    "\n",
    "`df.loc['KBS' and (df.loc['KBS'] > 30)]` 오류\n",
    "\n",
    "그랫 한번에 하는 것은 포기하고 나눠서 하기로 했다\n",
    "\n",
    "`df1 = df.loc['KBS']\n",
    "df1[df['KBS'] > 30]` 오류\n",
    "\n",
    "인덱스부터라는 사실을 망각해서 :를 넣어주었다\n",
    "\n",
    "`df1 = df.loc[:, 'KBS']\n",
    "df1[df['KBS'] > 30]` 성공!!"
   ]
  }
 ],
 "metadata": {
  "kernelspec": {
   "display_name": "Python 3 (ipykernel)",
   "language": "python",
   "name": "python3"
  },
  "language_info": {
   "codemirror_mode": {
    "name": "ipython",
    "version": 3
   },
   "file_extension": ".py",
   "mimetype": "text/x-python",
   "name": "python",
   "nbconvert_exporter": "python",
   "pygments_lexer": "ipython3",
   "version": "3.9.13"
  }
 },
 "nbformat": 4,
 "nbformat_minor": 5
}
