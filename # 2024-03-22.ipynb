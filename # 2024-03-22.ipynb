{
 "cells": [
  {
   "cell_type": "markdown",
   "id": "050cd8ca",
   "metadata": {},
   "source": [
    "# pandas 실습"
   ]
  },
  {
   "cell_type": "markdown",
   "id": "a8cddccd",
   "metadata": {},
   "source": [
    ",KBS,MBC,SBS,TV CHOSUN,JTBC,Channel A,MBN\n",
    "\n",
    "2011,35.951,18.374,11.173,9.102,7.38,3.771,2.809\n",
    "\n",
    "2012,36.163,16.022,11.408,8.785,7.878,5.874,3.31\n",
    "\n",
    "2013,31.989,16.778,9.673,9.026,7.81,5.35,3.825\n",
    "\n",
    "2014,31.21,15.663,9.108,9.44,7.49,5.776,4.572\n",
    "\n",
    "2015,27.777,16.573,9.099,9.94,7.267,6.678,5.52\n",
    "\n",
    "2016,27.583,14.982,8.669,9.829,7.727,6.624,5.477\n",
    "\n",
    "2017,26.89,12.465,8.661,8.886,9.453,6.056,5.215\n",
    "\n",
    "이런 csv파일이 있다고 했을 때\n",
    "\n",
    "___\n",
    "**2016년도에 KBS방송국의 시청률을 찾아봅시다**"
   ]
  },
  {
   "cell_type": "code",
   "execution_count": null,
   "id": "b9a8f944",
   "metadata": {},
   "outputs": [],
   "source": [
    "import pandas as pd\n",
    "\n",
    "df = pd.read_csv('data/broadcast.csv', index_col = 0)\n",
    "\n",
    "df.loc[2016, 'KBS']"
   ]
  },
  {
   "cell_type": "markdown",
   "id": "d9a2c590",
   "metadata": {},
   "source": [
    "pandas를 pd로 불러오고\n",
    "\n",
    "pd.read_csv로 값을 리턴한(index_col = 0으로 column에 숫자가 들어가는 것을 막아주고) 후에\n",
    "\n",
    ".loc[row, column]으로 위치를 정해서 출력한다\n",
    "\n",
    "여기서 2016은 문자열이 아닌 숫자로 해주는 것이 포인트이다"
   ]
  },
  {
   "cell_type": "markdown",
   "id": "a099052d",
   "metadata": {},
   "source": [
    "___\n",
    "**JTBC의 시청률을 확인하려면 어떻게 해야 할까요?**"
   ]
  },
  {
   "cell_type": "code",
   "execution_count": null,
   "id": "03876715",
   "metadata": {},
   "outputs": [],
   "source": [
    "import pandas as pd\n",
    "\n",
    "df = pd.read_csv('data/broadcast.csv', index_col=0)\n",
    "\n",
    "df.loc[:, 'JTBC']"
   ]
  },
  {
   "cell_type": "markdown",
   "id": "2d6feaa4",
   "metadata": {},
   "source": [
    "이런 식으로 :을 써주면 된다"
   ]
  },
  {
   "cell_type": "markdown",
   "id": "481d4d3a",
   "metadata": {},
   "source": [
    "___\n",
    "**SBS와 JTBC의 시청률만 확인하려면 어떻게 하면 될까요?**"
   ]
  },
  {
   "cell_type": "code",
   "execution_count": null,
   "id": "65d1c067",
   "metadata": {},
   "outputs": [],
   "source": [
    "import pandas as pd\n",
    "\n",
    "df = pd.read_csv('data/broadcast.csv', index_col=0)\n",
    "\n",
    "df[['SBS', 'JTBC']]"
   ]
  },
  {
   "cell_type": "markdown",
   "id": "d75991c9",
   "metadata": {},
   "source": [
    ".loc이 아니더라도 그냥 판다스가 저장되어있는 변수에 리스트를 파라미터로 넣으면 된다"
   ]
  },
  {
   "cell_type": "markdown",
   "id": "f7d09700",
   "metadata": {},
   "source": [
    "___\n",
    "데이터의 중요성을 깨달은 “삼송카드”와 “현디카드”가 협업을 하기로 결정했습니다.\n",
    "\n",
    "두 카드사는 사람들이 요일별로 지출하는 평균 금액을\n",
    "\n",
    "“요일”, “식비\", “교통비”, “문화생활비”, “기타” 카테고리로 정리해서 우리에게 공유해 주기로 했는데요.\n",
    "\n",
    "각각 samsong.csv 파일과 hyundee.csv 파일을 보냈습니다.\n",
    "\n",
    "두 회사의 데이터를 활용해서, 사람들의 요일별 문화생활비를 분석해보려 합니다.\n",
    "\n",
    "**아래와 같은 형태로 출력이 되도록 DataFrame을 만들어보세요**\n",
    "\n",
    "   `day  samsong  hyundee\n",
    "0  MON     4308     5339\n",
    "1  TUE     7644     3524\n",
    "2  WED     5674     5364\n",
    "3  THU     8621     9942\n",
    "4  FRI    23052    33511\n",
    "5  SAT    15330    19397\n",
    "6  SUN    19030    19925`"
   ]
  },
  {
   "cell_type": "markdown",
   "id": "453f4c7d",
   "metadata": {},
   "source": [
    "어캐하지\n",
    "\n",
    "일단 문화생활비만 뽑아오는 것과 날짜를 뽑아오는 것은 가능하다\n",
    "\n",
    "그런데 column 이름을 samsong으로 바꾸어야 하는 것이 걸린다\n",
    "\n",
    "아마 판다스를 새로 작성해야 할 것 같다\n",
    "\n",
    "판다스를 작성하는 게 pd.write였던 걸로 기억하는데...\n",
    "\n",
    "...모르겠다"
   ]
  },
  {
   "cell_type": "markdown",
   "id": "9382b2d1",
   "metadata": {},
   "source": [
    "___\n",
    "*힌트 2*\n",
    "\n",
    "*DataFrame을 만드는 방법으로는 여러 가지가 있습니다. 파이썬 사전(Dictionary)을 활용해 보세요.*\n",
    "\n",
    "*파이썬 사전은 아래와 같은 형태로 만들 수 있습니다.*\n",
    "\n",
    "\n",
    "*names = ['dongwook', 'sineui', 'ikjoong', 'yoonsoo']\n",
    "english_scores = [50, 89, 68, 88]\n",
    "math_scores = [86, 31, 91, 75]*\n",
    "\n",
    "*dict1 = {\n",
    "    'name': names, \n",
    "    'english_score': english_scores, \n",
    "    'math_score': math_scores\n",
    "}*\n",
    "___"
   ]
  },
  {
   "cell_type": "markdown",
   "id": "8f2193b5",
   "metadata": {},
   "source": [
    "우선 기억이 안나는데 왠지 name, english_score, math_score 이 셋이 하나의 column이 될 것 같다"
   ]
  },
  {
   "cell_type": "code",
   "execution_count": null,
   "id": "06dbff7a",
   "metadata": {},
   "outputs": [],
   "source": [
    "import pandas as pd\n",
    "\n",
    "samsong_df = pd.read_csv('data/samsong.csv')\n",
    "hyundee_df = pd.read_csv('data/hyundee.csv')\n",
    "\n",
    "day = samsong_df.loc[:, 'day']\n",
    "samsong = samsong_df.loc[:, '문화생활비']\n",
    "hyundee = hyundee_df.loc[:, '문화생활비']\n",
    "\n",
    "result_dict = {\n",
    "    'day': day\n",
    "    'samsong': samsong\n",
    "    'hyundee': hyundee\n",
    "}\n",
    "\n",
    "result = pd.write(result_dict)\n",
    "\n",
    "result"
   ]
  },
  {
   "cell_type": "markdown",
   "id": "12bcafbd",
   "metadata": {},
   "source": [
    "왜 안되는 거지... 뭔가 계속 불러오기만 배우다가 \n",
    "\n",
    "갑자기 작성하는 것을 해야하니까 어지럽다...\n",
    "\n",
    "아 이거 전에 배웠던 DataFrame이네"
   ]
  },
  {
   "cell_type": "code",
   "execution_count": null,
   "id": "e5f27632",
   "metadata": {},
   "outputs": [],
   "source": [
    "import pandas as pd\n",
    "\n",
    "samsong_df = pd.read_csv('data/samsong.csv')\n",
    "hyundee_df = pd.read_csv('data/hyundee.csv')\n",
    "\n",
    "day = samsong_df.loc[:, 'day']\n",
    "samsong = samsong_df.loc[:, '문화생활비']\n",
    "hyundee = hyundee_df.loc[:, '문화생활비']\n",
    "\n",
    "result_dict = {\n",
    "    'day': day\n",
    "    'samsong': samsong\n",
    "    'hyundee': hyundee\n",
    "}\n",
    "\n",
    "result = pd.DataFrame(result_dict columns = ['day', 'samsong', 'hyundee'])\n",
    "\n",
    "result"
   ]
  },
  {
   "cell_type": "code",
   "execution_count": null,
   "id": "883dd611",
   "metadata": {},
   "outputs": [],
   "source": [
    "import pandas as pd\n",
    "\n",
    "samsong_df = pd.read_csv('data/samsong.csv')\n",
    "hyundee_df = pd.read_csv('data/hyundee.csv')\n",
    "\n",
    "day = samsong_df.loc[:, '요일']\n",
    "samsong = samsong_df.loc[:, '문화생활비']\n",
    "hyundee = hyundee_df.loc[:, '문화생활비']\n",
    "\n",
    "result_dict = {\n",
    "    'day': day,\n",
    "    'samsong': samsong,\n",
    "    'hyundee': hyundee\n",
    "}\n",
    "\n",
    "result = pd.DataFrame(result_dict columns = ['day', 'samsong', 'hyundee'])\n",
    "\n",
    "result"
   ]
  },
  {
   "cell_type": "markdown",
   "id": "f792dc79",
   "metadata": {},
   "source": [
    "사전에 콤마도 안쓰고 콜롬도 요일인데 day라고 써서 오류가 났음"
   ]
  }
 ],
 "metadata": {
  "kernelspec": {
   "display_name": "Python 3 (ipykernel)",
   "language": "python",
   "name": "python3"
  },
  "language_info": {
   "codemirror_mode": {
    "name": "ipython",
    "version": 3
   },
   "file_extension": ".py",
   "mimetype": "text/x-python",
   "name": "python",
   "nbconvert_exporter": "python",
   "pygments_lexer": "ipython3",
   "version": "3.9.13"
  }
 },
 "nbformat": 4,
 "nbformat_minor": 5
}
