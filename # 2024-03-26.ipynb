{
 "cells": [
  {
   "cell_type": "markdown",
   "id": "5bc943db",
   "metadata": {},
   "source": [
    "요즈음 과제하고, 술마시느라고 공부를 너무 못하고 있다 ㅠㅠㅠ\n",
    "\n",
    "아무리 그래도 매일매일 꾸준히 하고 싶은데..."
   ]
  },
  {
   "cell_type": "markdown",
   "id": "75f84fe1",
   "metadata": {},
   "source": [
    "___\n",
    "# 실습 설명"
   ]
  },
  {
   "cell_type": "markdown",
   "id": "dca3f8d3",
   "metadata": {},
   "source": [
    "주어진 데이터에서 SBS가 TV CHOSUN보다 더 시청률이 낮았던 시기의 데이터를 확인해보려고 합니다.\n",
    "\n",
    "`,KBS,MBC,SBS,TV CHOSUN,JTBC,Channel A,MBN\n",
    "2011,35.951,18.374,11.173,9.102,7.38,3.771,2.809\n",
    "2012,36.163,16.022,11.408,8.785,7.878,5.874,3.31\n",
    "2013,31.989,16.778,9.673,9.026,7.81,5.35,3.825\n",
    "2014,31.21,15.663,9.108,9.44,7.49,5.776,4.572\n",
    "2015,27.777,16.573,9.099,9.94,7.267,6.678,5.52\n",
    "2016,27.583,14.982,8.669,9.829,7.727,6.624,5.477\n",
    "2017,26.89,12.465,8.661,8.886,9.453,6.056,5.215`"
   ]
  },
  {
   "cell_type": "markdown",
   "id": "466b215c",
   "metadata": {},
   "source": [
    "#### 1차 시도\n",
    "\n",
    "`import pandas as pd\n",
    "df = pd.read_csv('data/broadcast.csv', index_col=0)\n",
    "sbs_chosun = df.loc[:, 'SBS', 'TV CHOSUN']\n",
    "sbs_chosun[df[:, 'SBS'] < df[:, 'TV CHOSUN']]`"
   ]
  },
  {
   "cell_type": "markdown",
   "id": "a3e7e358",
   "metadata": {},
   "source": [
    "여기서 :는 없어도 되는 것같아서 빼버렸다"
   ]
  },
  {
   "cell_type": "markdown",
   "id": "dab53c27",
   "metadata": {},
   "source": [
    "#### 2차 시도\n",
    "\n",
    "`import pandas as pd\n",
    "df = pd.read_csv('data/broadcast.csv', index_col=0)\n",
    "sbs_chosun = df.loc[:, 'SBS', 'TV CHOSUN']\n",
    "sbs_chosun[df['SBS'] < df['TV CHOSUN']]`"
   ]
  },
  {
   "cell_type": "markdown",
   "id": "7877122e",
   "metadata": {},
   "source": [
    "사실 데이터프레임 안에 불린 값 리스트를 넣을 수 있는 것은 알지만\n",
    "\n",
    "저런 식으로 리스트를 만들 수 있는 지는 모르겠다"
   ]
  },
  {
   "cell_type": "markdown",
   "id": "e3c50814",
   "metadata": {},
   "source": [
    "`df['SBS'] > df['TV CHOSUN']` 아니 이거는 잘 데이터 프레임으로 나오는데;;;"
   ]
  },
  {
   "cell_type": "markdown",
   "id": "b7e546ac",
   "metadata": {},
   "source": [
    "#### 3차 시도\n",
    "\n",
    "`import pandas as pd\n",
    "df = pd.read_csv('data/broadcast.csv', index_col=0)\n",
    "sbs_chosun = df.loc[:, ['SBS', 'TV CHOSUN']]\n",
    "sbs_chosun[df['SBS'] < df['TV CHOSUN']]`"
   ]
  },
  {
   "cell_type": "markdown",
   "id": "27428989",
   "metadata": {},
   "source": [
    "이런 식으로 리스트로 만들어서 넣어야 하구나..."
   ]
  },
  {
   "cell_type": "markdown",
   "id": "e235e0a1",
   "metadata": {},
   "source": [
    "___\n",
    "# DataFrame 숫자로 인덱싱"
   ]
  },
  {
   "cell_type": "markdown",
   "id": "33ee6c0c",
   "metadata": {},
   "source": [
    "numpy array에서는 숫자로 인덱싱을 했었는데\n",
    "\n",
    "지금까지만 보면 DataFrame에서는 인덱스(로우)와 콜롬의 이름만으로 인덱싱을 했다\n",
    "\n",
    "하지만 역시나 DataFrame도 숫자(위치)로 인덱싱을 할 수가 있다\n",
    "\n",
    "대신에 조금 다르다 DataFrame.loc[인덱스, 콜롬]이 아니라\n",
    "\n",
    "DataFrame.iloc[]이다 i가 들어가는 것이 차이점이다\n",
    "\n",
    "물론 인덱스 자리에 리스트를 넣을 수도 있고 슬라이싱을 할 수도 있다"
   ]
  },
  {
   "cell_type": "markdown",
   "id": "f202e478",
   "metadata": {},
   "source": [
    "___\n",
    "# DataFrame 인덱싱 방법 정리"
   ]
  },
  {
   "cell_type": "markdown",
   "id": "ca87f93f",
   "metadata": {},
   "source": [
    "`하나의 row 이름\t              \n",
    "df.loc[\"row4\"]`\n",
    "\n",
    "`row 이름의 리스트\t             \n",
    "df.loc[[\"row4\", \"row5\", \"row3\"]]`\t\n",
    "\n",
    "`row 이름의 리스트 슬라이싱\t  \n",
    "df.loc[\"row2\":\"row5\"]`\t\n",
    "\n",
    "`하나의 column 이름\t           \n",
    "df.loc[:, \"col1\"]`\t\n",
    "\n",
    "`column 이름의 리스트\t          \n",
    "df.loc[:, [\"col4\", \"col6\", \"col3\"]]`\n",
    "\n",
    "`column 이름의 리스트 슬라이싱\t  \n",
    "df.loc[:, \"col2\":\"col5\"]`\t\n",
    "\n",
    "`하나의 row 위치\t               \n",
    "df.iloc[8]`\n",
    "\n",
    "`row 위치의 리스트\t              \n",
    "df.iloc[[4, 5, 3]]`\t\n",
    "\n",
    "`row 위치의 리스트 슬라이싱\t\n",
    "df.iloc[2:5]`\n",
    "\n",
    "`하나의 column 위치\t\n",
    "df.iloc[:, 3]`\n",
    "\n",
    "`column 위치의 리스트\t\n",
    "df.iloc[:, [3, 5, 6]]`\t\n",
    "\n",
    "`column 위치의 리스트 슬라이싱\t\n",
    "df.iloc[:, 3:7]`"
   ]
  },
  {
   "cell_type": "markdown",
   "id": "5eecbb32",
   "metadata": {},
   "source": [
    "솔직히 위에 다 나온 내용이긴 하다\n",
    "\n",
    "그리고 원리적으로 기억하는 것이 백번 낫다 이렇게 기억하는 것보다\n",
    "\n",
    "근데 그냥 여기다가 정리를 해놓고 \n",
    "\n",
    "앞으로 필요한 부분을 찾으면 되지 않을까 하는 생각이 있다"
   ]
  }
 ],
 "metadata": {
  "kernelspec": {
   "display_name": "Python 3 (ipykernel)",
   "language": "python",
   "name": "python3"
  },
  "language_info": {
   "codemirror_mode": {
    "name": "ipython",
    "version": 3
   },
   "file_extension": ".py",
   "mimetype": "text/x-python",
   "name": "python",
   "nbconvert_exporter": "python",
   "pygments_lexer": "ipython3",
   "version": "3.9.13"
  }
 },
 "nbformat": 4,
 "nbformat_minor": 5
}
