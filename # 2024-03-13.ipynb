{
 "cells": [
  {
   "cell_type": "markdown",
   "id": "56953dd2",
   "metadata": {},
   "source": [
    "# 2024/03/13"
   ]
  },
  {
   "cell_type": "markdown",
   "id": "8982b15a",
   "metadata": {},
   "source": [
    "#### 내일은 마찰계수 발표를 해야해서 오늘은 간단하게 주피터 노트북 공부를 하자\n",
    "#### 마크 다운 공부를 하자!!!\n",
    "#### 샵으로 제목 만들기!!!"
   ]
  },
  {
   "cell_type": "markdown",
   "id": "ecf73f75",
   "metadata": {},
   "source": [
    "1. 1번 목록 만들기\n",
    "2. 2번 목록 만들기\n",
    "3. 3번 목록 만들기"
   ]
  },
  {
   "cell_type": "markdown",
   "id": "60dd7b66",
   "metadata": {},
   "source": [
    "* 별표로 그냥 목록 만들기!\n",
    "* 그냥 목록 만들기!!\n",
    "* 그냥 목록 만들기!!!\n",
    "* ctrl + shift 누르면 마크다운 바로 실행"
   ]
  },
  {
   "cell_type": "markdown",
   "id": "372a8470",
   "metadata": {},
   "source": [
    "space space로 줄을 바꿀수가 있다 그냥 막 쓰고 엔터 누른다고 줄이 안넘어 가나보다  \n",
    "이렇게 목록을 나눈것도 아니고"
   ]
  },
  {
   "cell_type": "markdown",
   "id": "9e5969ab",
   "metadata": {},
   "source": [
    "enter enter로는 문단을 바꿀 수가 있다\n",
    "\n",
    "이렇게 문단을 바꾸어요(근데 당연한거 아닌가?)"
   ]
  },
  {
   "cell_type": "markdown",
   "id": "048533be",
   "metadata": {},
   "source": [
    "*별표*\n",
    "\n",
    "**별표별표**\n",
    "\n",
    "_언더바_\n",
    "\n",
    "~물결~\n",
    "\n",
    "언더바랑 별표는 뭔 차이지...?"
   ]
  },
  {
   "cell_type": "markdown",
   "id": "01e6ab5b",
   "metadata": {},
   "source": [
    "여기로 가보세요!! [공부 깃허브](https://github.com/108monster/-)\n",
    "\n",
    "**[공부 깃허브](https://github.com/108monster/-)**\n",
    "\n",
    "대괄호, 링크 이름, 대괄호, 괄호, 링크, 괄호"
   ]
  },
  {
   "cell_type": "markdown",
   "id": "b85d419c",
   "metadata": {},
   "source": [
    "링크에다가 느낌표를 추가하면 이미지 링크도 받는다\n",
    "\n",
    "![물리발표내용](data:image/jpeg;base64,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)\n",
    "\n",
    "내일 발표 예정"
   ]
  },
  {
   "cell_type": "markdown",
   "id": "ea8c5d6f",
   "metadata": {},
   "source": [
    "```python\n",
    "print('hello world!')\n",
    "for i in range(10):\n",
    "    print(i)\n",
    "```\n",
    "\n",
    "작은 따옴표 세개로 이런식으로 코드도 집어 넣을 수가 있어요"
   ]
  },
  {
   "cell_type": "markdown",
   "id": "69f04492",
   "metadata": {},
   "source": [
    "같은 줄 안에서는 작은 따옴표(가 아니라 물결표시 있는 키보드 키)  1개면 된다 `def`"
   ]
  },
  {
   "cell_type": "markdown",
   "id": "5a72b237",
   "metadata": {},
   "source": [
    "여기랑 저기는 구분되지요\n",
    "___\n",
    "그렇지요 맞는 말씀이십니다\n",
    "\n",
    "근데 연하다 언더바 3개 넣은거 치고는"
   ]
  },
  {
   "cell_type": "markdown",
   "id": "e0114260",
   "metadata": {},
   "source": [
    "# 끝!!! 내일 발표 잘하고 와야지"
   ]
  },
  {
   "cell_type": "code",
   "execution_count": null,
   "id": "5f46c719",
   "metadata": {},
   "outputs": [],
   "source": []
  }
 ],
 "metadata": {
  "kernelspec": {
   "display_name": "Python 3 (ipykernel)",
   "language": "python",
   "name": "python3"
  },
  "language_info": {
   "codemirror_mode": {
    "name": "ipython",
    "version": 3
   },
   "file_extension": ".py",
   "mimetype": "text/x-python",
   "name": "python",
   "nbconvert_exporter": "python",
   "pygments_lexer": "ipython3",
   "version": "3.9.13"
  }
 },
 "nbformat": 4,
 "nbformat_minor": 5
}
