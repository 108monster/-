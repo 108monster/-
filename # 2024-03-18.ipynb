{
 "cells": [
  {
   "cell_type": "markdown",
   "id": "0c6bb173",
   "metadata": {},
   "source": [
    "# CSV 파일"
   ]
  },
  {
   "cell_type": "markdown",
   "id": "87a93c4a",
   "metadata": {},
   "source": [
    "값들이 쉼표로 나뉘어져 있다는 뜻\n",
    "\n",
    "csv파일은\n",
    "\n",
    "`pd.read_csv(\"파일경로\")`\n",
    "\n",
    "로 읽으면 된다 맨 윗 줄을 해더로 인식한다\n",
    "\n",
    "실제로 맨 윗줄이 해더가 아니면\n",
    "\n",
    "`pd.read_csv(\"파일경로\", header = none)`\n",
    "\n",
    "으로 입력하면 해더가 그냥 숫자 인덱스로 나온다\n",
    "\n",
    "인덱스 번호를 없애고 싶으면\n",
    "\n",
    "`pd.read_csv(\"파일경로\", index_col = 0)`\n",
    "\n",
    "으로 가면 된다"
   ]
  },
  {
   "cell_type": "markdown",
   "id": "64e66d84",
   "metadata": {},
   "source": [
    "___\n",
    "# 실습 설명"
   ]
  },
  {
   "cell_type": "markdown",
   "id": "531efe02",
   "metadata": {},
   "source": [
    "data 파일에 들어있는 csv 파일을 읽어서 출력하기"
   ]
  },
  {
   "cell_type": "code",
   "execution_count": null,
   "id": "925611cf",
   "metadata": {},
   "outputs": [],
   "source": [
    "import pandas as pd\n",
    "\n",
    "df = pd.read_csv(\"data/popular_baby_names.csv\")\n",
    "\n",
    "df"
   ]
  },
  {
   "cell_type": "markdown",
   "id": "e5934096",
   "metadata": {},
   "source": [
    "1. 그냥 pd.read_csv를 변수에 집어넣으면 된다\n",
    "2. 그리고 경로를 적어줄 때 백슬래쉬가 아니라 슬래쉬를 사용해야한다\n",
    "3. 경로는 문자열로 취급(?)해야한다"
   ]
  },
  {
   "cell_type": "markdown",
   "id": "01ed7851",
   "metadata": {},
   "source": [
    "___\n",
    "# 실습 설명"
   ]
  },
  {
   "cell_type": "markdown",
   "id": "c2c6c731",
   "metadata": {},
   "source": [
    "메가밀리언 측에서 2002년부터 현재(2/15/19)까지의 당첨 번호가 담긴 mega_millions.csv 파일을 공개했는데요.\n",
    "\n",
    "이 데이터를 DataFrame에 넣어 봅시다.\n",
    "\n",
    "날짜(Draw Date)가 이 DataFrame의 인덱스가 되도록 해 주세요"
   ]
  },
  {
   "cell_type": "code",
   "execution_count": null,
   "id": "466c40fd",
   "metadata": {},
   "outputs": [],
   "source": [
    "import pandas as pd\n",
    "\n",
    "df = pd.read_csv(\"data/mega_millions.csv\", index_col = 0)\n",
    "\n",
    "df"
   ]
  }
 ],
 "metadata": {
  "kernelspec": {
   "display_name": "Python 3 (ipykernel)",
   "language": "python",
   "name": "python3"
  },
  "language_info": {
   "codemirror_mode": {
    "name": "ipython",
    "version": 3
   },
   "file_extension": ".py",
   "mimetype": "text/x-python",
   "name": "python",
   "nbconvert_exporter": "python",
   "pygments_lexer": "ipython3",
   "version": "3.9.13"
  }
 },
 "nbformat": 4,
 "nbformat_minor": 5
}
