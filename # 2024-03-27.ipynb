{
 "cells": [
  {
   "cell_type": "markdown",
   "id": "f2eef264",
   "metadata": {},
   "source": [
    "# DataFrame과 지정연산자"
   ]
  },
  {
   "cell_type": "markdown",
   "id": "3c2e4ac6",
   "metadata": {},
   "source": [
    "데이터프레임의 위치를 .loc로 지정해주고 \n",
    "\n",
    "또는 .iloc으로 지정해주고\n",
    "\n",
    "지정연산자(=) 와 그 뒤에 넣고 싶은 값을 넣으면 된다\n",
    "\n",
    "여러가지 변형(?)이 있는데\n",
    "\n",
    "*1. 하나의 값 만을 집어넣기*\n",
    "\n",
    "`DataFrame.loc['다리 수', '사자'] = 100`\n",
    "\n",
    "*2. 여러개의 값을 집어넣기*\n",
    "\n",
    "리스트를 이용해서 집어 넣고 로우(인덱스)와 콜롬안에 있는 요소를 싹 바꾼다\n",
    "\n",
    "`DataFrame.loc['다리 수'] = [100, 103, 2, 4, 2929]`\n",
    "\n",
    "만약 여러 값들이 들어가는 콜롬을 불러와놓고 하나의 값만을 지정해주면\n",
    "\n",
    "그 콜롬에 들어있는 모든 값이 다 동일하게 바뀐다\n",
    "\n",
    "*3. 값을 여러곳에 집어 넣기*\n",
    "\n",
    "두 가지의 콜롬을 지정해주고 한가지 값 ('고양이')같은 거를 지정해주면\n",
    "\n",
    "두가지 콜롬에 모두 고양이가 들어간다\n",
    "\n",
    "두가지 콜롬이 아니라 슬라이싱한 콜롬 덩어리도 가능하다\n",
    "\n",
    "DataFrame.loc['다리 수', '팔 수'] = 2000\n",
    "\n",
    "*4. 필터링 된 부분에만 값을 집어넣기*\n",
    "\n",
    "DataFrame.loc[DataFrame['다리 수'] > 10] = 203043\n",
    "\n",
    "*5. 위치로 위치 지정(?)*\n",
    "\n",
    "DataFrame.iloc[[1, 2], [0, 1]]"
   ]
  },
  {
   "cell_type": "markdown",
   "id": "037c494c",
   "metadata": {},
   "source": [
    "___\n",
    "# DataFrame에 값 추가 or 삭제"
   ]
  },
  {
   "cell_type": "markdown",
   "id": "c12f6368",
   "metadata": {},
   "source": [
    "### 추가\n",
    "\n",
    "없는 로우나 콜롬을 쓰고 값을 지정해주면 그 로우나 콜롬이 생긴다\n",
    "\n",
    "근데 잘 모르겠지만 .loc['무언가']로는 특정이 안될테고 지정해 주는 값에 따라\n",
    "\n",
    "로우나 콜롬이 바뀌는 거 같다.\n",
    "\n",
    "하나의 값만을 집어넣으면 콜롬으로 인식해서 그 콜롬을 만들고\n",
    "\n",
    "모든 값을 지정해준 값으로 만든다\n",
    "\n",
    "리스트를 지정해주면 로우로 인식해서 각각 콜롬에 순서대로 집어 넣는 것 같다\n",
    "\n",
    "### 삭제\n",
    "\n",
    "`DataFrame.drop('무언가', axis = '인덱스 or 콜롬', inplace = True or False)`\n",
    "\n",
    "axis = 'index'  # 인덱스를 지정\n",
    "\n",
    "axis = 'columns'  # 콜롬을 지정\n",
    "\n",
    "inplace = True  # 저장함\n",
    "\n",
    "inplace = 'False'  # 저장하지는 않고 리턴만함"
   ]
  }
 ],
 "metadata": {
  "kernelspec": {
   "display_name": "Python 3 (ipykernel)",
   "language": "python",
   "name": "python3"
  },
  "language_info": {
   "codemirror_mode": {
    "name": "ipython",
    "version": 3
   },
   "file_extension": ".py",
   "mimetype": "text/x-python",
   "name": "python",
   "nbconvert_exporter": "python",
   "pygments_lexer": "ipython3",
   "version": "3.9.13"
  }
 },
 "nbformat": 4,
 "nbformat_minor": 5
}
