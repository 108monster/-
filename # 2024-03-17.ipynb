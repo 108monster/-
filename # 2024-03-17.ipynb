{
 "cells": [
  {
   "cell_type": "markdown",
   "id": "41f5cca8",
   "metadata": {},
   "source": [
    "# pandas"
   ]
  },
  {
   "cell_type": "markdown",
   "id": "17b92d8b",
   "metadata": {},
   "source": [
    "pandas는 데이터처리를 위한 툴로 \n",
    "\n",
    "* 외부 데이터 읽고 쓰기\n",
    "\n",
    "* 정리된 데이터를 새로운 파일에 저장하기\n",
    "\n",
    "* 데이터 시각화\n",
    "\n",
    "를 할 수가 있다"
   ]
  },
  {
   "cell_type": "markdown",
   "id": "1c794549",
   "metadata": {},
   "source": [
    "___\n",
    "# DataFrame"
   ]
  },
  {
   "cell_type": "markdown",
   "id": "cd0838b0",
   "metadata": {},
   "source": [
    "* column : 세로줄, 각 데이터의 특징을 담는다\n",
    "\n",
    "* row : 가로줄, 각 column에 대한 정보들이 담겨져 있다\n",
    "\n",
    "#### 그렇다면 판다스 데이터프레임만의 특징이 무엇이냐?\n",
    "\n",
    "1. 데이터를 인덱스가 아닌 그 이름으로 찾을 수가 있다\n",
    "\n",
    "2. 각 row에 들어가는 자료형이 꼭 동일하지 않아도 된다"
   ]
  },
  {
   "cell_type": "markdown",
   "id": "b6c168af",
   "metadata": {},
   "source": [
    "___\n",
    "# 판다스 실제 사용"
   ]
  },
  {
   "cell_type": "code",
   "execution_count": 1,
   "id": "183ecb7b",
   "metadata": {},
   "outputs": [],
   "source": [
    "import pandas as pd"
   ]
  },
  {
   "cell_type": "code",
   "execution_count": 3,
   "id": "9fc1d0d3",
   "metadata": {},
   "outputs": [
    {
     "name": "stdout",
     "output_type": "stream",
     "text": [
      "     0   1   2\n",
      "0  호랑이  10  99\n",
      "1  고양이  66   2\n",
      "2  코뿔소  82  64\n"
     ]
    },
    {
     "data": {
      "text/html": [
       "<div>\n",
       "<style scoped>\n",
       "    .dataframe tbody tr th:only-of-type {\n",
       "        vertical-align: middle;\n",
       "    }\n",
       "\n",
       "    .dataframe tbody tr th {\n",
       "        vertical-align: top;\n",
       "    }\n",
       "\n",
       "    .dataframe thead th {\n",
       "        text-align: right;\n",
       "    }\n",
       "</style>\n",
       "<table border=\"1\" class=\"dataframe\">\n",
       "  <thead>\n",
       "    <tr style=\"text-align: right;\">\n",
       "      <th></th>\n",
       "      <th>0</th>\n",
       "      <th>1</th>\n",
       "      <th>2</th>\n",
       "    </tr>\n",
       "  </thead>\n",
       "  <tbody>\n",
       "    <tr>\n",
       "      <th>0</th>\n",
       "      <td>호랑이</td>\n",
       "      <td>10</td>\n",
       "      <td>99</td>\n",
       "    </tr>\n",
       "    <tr>\n",
       "      <th>1</th>\n",
       "      <td>고양이</td>\n",
       "      <td>66</td>\n",
       "      <td>2</td>\n",
       "    </tr>\n",
       "    <tr>\n",
       "      <th>2</th>\n",
       "      <td>코뿔소</td>\n",
       "      <td>82</td>\n",
       "      <td>64</td>\n",
       "    </tr>\n",
       "  </tbody>\n",
       "</table>\n",
       "</div>"
      ],
      "text/plain": [
       "     0   1   2\n",
       "0  호랑이  10  99\n",
       "1  고양이  66   2\n",
       "2  코뿔소  82  64"
      ]
     },
     "execution_count": 3,
     "metadata": {},
     "output_type": "execute_result"
    }
   ],
   "source": [
    "test_list = [[\"호랑이\", 10, 99], [\"고양이\", 66, 2], [\"코뿔소\", 82, 64]]\n",
    "panda = pd.DataFrame(test_list)\n",
    "print(panda)\n",
    "panda"
   ]
  },
  {
   "cell_type": "markdown",
   "id": "ff9bb59b",
   "metadata": {},
   "source": [
    "array랑 굉장히 비슷하구나 파이썬 리스트를 파라미터로 받는 것도 그렇고\n",
    "\n",
    "그리고 dataframe을 대소문자를 구분해서 써야하는 것 같다?\n",
    "\n",
    "출력하면 굉장히 예쁘게 나온다 너무 좋다"
   ]
  },
  {
   "cell_type": "code",
   "execution_count": 8,
   "id": "41c99875",
   "metadata": {},
   "outputs": [
    {
     "data": {
      "text/html": [
       "<div>\n",
       "<style scoped>\n",
       "    .dataframe tbody tr th:only-of-type {\n",
       "        vertical-align: middle;\n",
       "    }\n",
       "\n",
       "    .dataframe tbody tr th {\n",
       "        vertical-align: top;\n",
       "    }\n",
       "\n",
       "    .dataframe thead th {\n",
       "        text-align: right;\n",
       "    }\n",
       "</style>\n",
       "<table border=\"1\" class=\"dataframe\">\n",
       "  <thead>\n",
       "    <tr style=\"text-align: right;\">\n",
       "      <th></th>\n",
       "      <th>이름</th>\n",
       "      <th>나이</th>\n",
       "      <th>공격력</th>\n",
       "    </tr>\n",
       "  </thead>\n",
       "  <tbody>\n",
       "    <tr>\n",
       "      <th>a</th>\n",
       "      <td>호랑이</td>\n",
       "      <td>10</td>\n",
       "      <td>99</td>\n",
       "    </tr>\n",
       "    <tr>\n",
       "      <th>b</th>\n",
       "      <td>고양이</td>\n",
       "      <td>66</td>\n",
       "      <td>2</td>\n",
       "    </tr>\n",
       "    <tr>\n",
       "      <th>c</th>\n",
       "      <td>코뿔소</td>\n",
       "      <td>82</td>\n",
       "      <td>64</td>\n",
       "    </tr>\n",
       "  </tbody>\n",
       "</table>\n",
       "</div>"
      ],
      "text/plain": [
       "    이름  나이  공격력\n",
       "a  호랑이  10   99\n",
       "b  고양이  66    2\n",
       "c  코뿔소  82   64"
      ]
     },
     "execution_count": 8,
     "metadata": {},
     "output_type": "execute_result"
    }
   ],
   "source": [
    "test_list1 = [[\"호랑이\", 10, 99], [\"고양이\", 66, 2], [\"코뿔소\", 82, 64]]\n",
    "panda = pd.DataFrame(test_list1, columns = [\"이름\", \"나이\", \"공격력\"], index = [\"a\", \"b\", \"c\"])\n",
    "panda"
   ]
  },
  {
   "cell_type": "markdown",
   "id": "eae50797",
   "metadata": {},
   "source": [
    "이제 각 column과 row에 이름을 붙여줄 수가 있다\n",
    "\n",
    "이름을 붙여주기 위해서는 리스트를 명명할 때 작업하는게 아니라 DataFrame을 만들때 작업한다\n",
    "\n",
    "row는 파이썬에서 index라고 부른다\n",
    "\n",
    "column은 같은 자료형만 들어가야 한다\n",
    "\n",
    "row는 다른 자료형이 다 들어갈 수가 있다"
   ]
  },
  {
   "cell_type": "markdown",
   "id": "6946bbe4",
   "metadata": {},
   "source": [
    "___\n",
    "# 실습 설명"
   ]
  },
  {
   "cell_type": "markdown",
   "id": "0f7745e2",
   "metadata": {},
   "source": [
    "아래와 같은 결과가 나오도록 DataFrame을 만들고 출력해 보세요.  \n",
    "\n",
    "column은 name, birthday, occupation 총 3개입니다.\n",
    "\n",
    "0. Taylor Swift\tDecember 13, 1989\tSinger-songwriter\n",
    "1. Aaron Sorkin\tJune 9, 1961\tScreenwriter\n",
    "2. Harry Potter\tJuly 31, 1980\tWizard\n",
    "3. Ji-Sung Park\tFebruary 25, 1981\tFootballer"
   ]
  },
  {
   "cell_type": "code",
   "execution_count": 9,
   "id": "f6953f2f",
   "metadata": {},
   "outputs": [
    {
     "data": {
      "text/html": [
       "<div>\n",
       "<style scoped>\n",
       "    .dataframe tbody tr th:only-of-type {\n",
       "        vertical-align: middle;\n",
       "    }\n",
       "\n",
       "    .dataframe tbody tr th {\n",
       "        vertical-align: top;\n",
       "    }\n",
       "\n",
       "    .dataframe thead th {\n",
       "        text-align: right;\n",
       "    }\n",
       "</style>\n",
       "<table border=\"1\" class=\"dataframe\">\n",
       "  <thead>\n",
       "    <tr style=\"text-align: right;\">\n",
       "      <th></th>\n",
       "      <th>name</th>\n",
       "      <th>birthday</th>\n",
       "      <th>occupation</th>\n",
       "    </tr>\n",
       "  </thead>\n",
       "  <tbody>\n",
       "    <tr>\n",
       "      <th>0</th>\n",
       "      <td>Tayor Swift</td>\n",
       "      <td>December 13, 1989</td>\n",
       "      <td>Singer-songwriter</td>\n",
       "    </tr>\n",
       "    <tr>\n",
       "      <th>1</th>\n",
       "      <td>Aaron Sorkin</td>\n",
       "      <td>June 9, 1961</td>\n",
       "      <td>Screenwriter</td>\n",
       "    </tr>\n",
       "    <tr>\n",
       "      <th>2</th>\n",
       "      <td>Harry Potter</td>\n",
       "      <td>July 31, 1980</td>\n",
       "      <td>Wizard</td>\n",
       "    </tr>\n",
       "    <tr>\n",
       "      <th>3</th>\n",
       "      <td>Ji-Sung Park</td>\n",
       "      <td>February 25, 1981</td>\n",
       "      <td>Footballer</td>\n",
       "    </tr>\n",
       "  </tbody>\n",
       "</table>\n",
       "</div>"
      ],
      "text/plain": [
       "           name           birthday         occupation\n",
       "0   Tayor Swift  December 13, 1989  Singer-songwriter\n",
       "1  Aaron Sorkin       June 9, 1961       Screenwriter\n",
       "2  Harry Potter      July 31, 1980             Wizard\n",
       "3  Ji-Sung Park  February 25, 1981         Footballer"
      ]
     },
     "execution_count": 9,
     "metadata": {},
     "output_type": "execute_result"
    }
   ],
   "source": [
    "import pandas as pd\n",
    "\n",
    "stars_list = [[\"Taylor Swift\", \"December 13, 1989\", \"Singer-songwriter\"], [\"Aaron Sorkin\", \"June 9, 1961\", \"Screenwriter\"], [\"Harry Potter\", \"July 31, 1980\", \"Wizard\"], [\"Ji-Sung Park\", \"February 25, 1981\", \"Footballer\"]]\n",
    "\n",
    "stars_pandas = pd.DataFrame(stars_list, columns = [\"name\", \"birthday\", \"occupation\"])\n",
    "\n",
    "stars_pandas"
   ]
  },
  {
   "cell_type": "markdown",
   "id": "a35b2917",
   "metadata": {},
   "source": [
    "아 이게 파이썬 리스트로 해서 너무 길고 복잡하게 보이는 건가?\n",
    "\n",
    "다른 형태(ex. 사전)으로도 해봐야겠다...\n",
    "\n",
    "나중에"
   ]
  },
  {
   "cell_type": "code",
   "execution_count": 11,
   "id": "6d910e42",
   "metadata": {},
   "outputs": [],
   "source": [
    "import pandas as pd\n",
    "\n",
    "stars_list = [\n",
    "    [\"Taylor Swift\", \"December 13, 1989\", \"Singer-songwriter\"], \n",
    "    [\"Aaron Sorkin\", \"June 9, 1961\", \"Screenwriter\"], \n",
    "    [\"Harry Potter\", \"July 31, 1980\", \"Wizard\"], \n",
    "    [\"Ji-Sung Park\", \"February 25, 1981\", \"Footballer\"]\n",
    "]"
   ]
  },
  {
   "cell_type": "markdown",
   "id": "54f8a8ed",
   "metadata": {},
   "source": [
    "이렇게 정렬해서 적을 수가 있다 훨씬 더 보기가 좋다"
   ]
  }
 ],
 "metadata": {
  "kernelspec": {
   "display_name": "Python 3 (ipykernel)",
   "language": "python",
   "name": "python3"
  },
  "language_info": {
   "codemirror_mode": {
    "name": "ipython",
    "version": 3
   },
   "file_extension": ".py",
   "mimetype": "text/x-python",
   "name": "python",
   "nbconvert_exporter": "python",
   "pygments_lexer": "ipython3",
   "version": "3.9.13"
  }
 },
 "nbformat": 4,
 "nbformat_minor": 5
}
