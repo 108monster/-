{
  "nbformat": 4,
  "nbformat_minor": 0,
  "metadata": {
    "colab": {
      "provenance": []
    },
    "kernelspec": {
      "name": "python3",
      "display_name": "Python 3"
    },
    "language_info": {
      "name": "python"
    }
  },
  "cells": [
    {
      "cell_type": "markdown",
      "source": [
        "2023097247 자원환경공학 윤민준\n",
        "\n",
        "질문 메일 보냈던 학생입니다\n",
        "\n",
        "조교님의 친절한 답변 감사드립니다. 위에서 int라는 변수를 발견하지는 못했지만\n",
        "\n",
        "그걸 고려해서 순서를 바꿨더니 작동이 되네요.\n",
        "\n"
      ],
      "metadata": {
        "id": "EkwhvM92N8w2"
      }
    },
    {
      "cell_type": "markdown",
      "source": [
        "### 5. 점수를 입력받아 '별표'을 출력하는 프로그램을 작성하세요. '별표'의 개수는 점수를 10으로 나눈 뒤 소수점 첫째 자리에서 반올림하다."
      ],
      "metadata": {
        "id": "HEYYv10J_QNu"
      }
    },
    {
      "cell_type": "code",
      "source": [
        "A = int(input('점수를 입력하세요.\\n'))\n",
        "print(\"---- 막대그래프 ----\")\n",
        "score_simple = '*' * int((A / 10) + 0.5)\n",
        "print('%d점 %s' %(A, score_simple))"
      ],
      "metadata": {
        "id": "nwZc5qinDS_J",
        "colab": {
          "base_uri": "https://localhost:8080/",
          "height": 0
        },
        "outputId": "c27c77ae-0ecc-4a38-fee7-7e74abb9abef"
      },
      "execution_count": 1,
      "outputs": [
        {
          "output_type": "stream",
          "name": "stdout",
          "text": [
            "점수를 입력하세요.\n",
            "93\n",
            "---- 막대그래프 ----\n",
            "93점 *********\n"
          ]
        }
      ]
    },
    {
      "cell_type": "markdown",
      "source": [
        "### 6. 4자리 정수를 입력받아 각 자리수를 출력하는 프로그램을 작성하세요."
      ],
      "metadata": {
        "id": "f3HAA9SdIts7"
      }
    },
    {
      "cell_type": "code",
      "source": [
        "num = int(input('4자리 정수를 입력하세요: '))\n",
        "thousand = int(num / 1000)\n",
        "remain = int(num - thousand * 1000)\n",
        "hundred = int(remain / 100)\n",
        "remain = int(remain - hundred * 100)\n",
        "ten = int(remain / 10)\n",
        "remain = int(remain - ten * 10)\n",
        "one = remain\n",
        "print('천의 자리수: %s' %thousand)\n",
        "print('백의 자리수: %s' %hundred)\n",
        "print('십의 자리수: %s' %ten)\n",
        "print('일의 자리수: %s' %one)\n"
      ],
      "metadata": {
        "colab": {
          "base_uri": "https://localhost:8080/",
          "height": 0
        },
        "id": "GKGAhy7hItYu",
        "outputId": "f3b07517-3a3b-4ef2-ec78-430130cff940"
      },
      "execution_count": 2,
      "outputs": [
        {
          "output_type": "stream",
          "name": "stdout",
          "text": [
            "4자리 정수를 입력하세요: 8752\n",
            "천의 자리수: 8\n",
            "백의 자리수: 7\n",
            "십의 자리수: 5\n",
            "일의 자리수: 2\n"
          ]
        }
      ]
    },
    {
      "cell_type": "markdown",
      "source": [
        "### 4. 이름과 필기 점수, 실기 점수를 입력받아 총점과 평균을 구하여 출력하는 프로그램을 작성하세요. 단, 평균은 소수점 첫째 자리까지 출력하고, 값과 값 사이의 공백은 탭(\\t)으로 조정한다."
      ],
      "metadata": {
        "id": "zqO_Ekdn_QzK"
      }
    },
    {
      "cell_type": "code",
      "source": [
        "name = input('이름 입력: ')\n",
        "score1 = float(input('필기점수 입력: '))\n",
        "score2 = float(input('실기점수 입력: '))\n",
        "print('------------------------------------')\n",
        "print('이름\\t필기\\t실기\\t총점\\t평균')\n",
        "print('%s\\t%.1f\\t%.1f\\t%.1f\\t%.1f' %(name, score1, score2, score1 + score2, (score1 + score2) / 2))\n",
        "print('------------------------------------')\n"
      ],
      "metadata": {
        "id": "2hcshlbx-2pD",
        "colab": {
          "base_uri": "https://localhost:8080/",
          "height": 0
        },
        "outputId": "8eb1da59-966f-4dcc-bb56-42030c86c5df"
      },
      "execution_count": 3,
      "outputs": [
        {
          "output_type": "stream",
          "name": "stdout",
          "text": [
            "이름 입력: 차은우\n",
            "필기점수 입력: 11.2\n",
            "실기점수 입력: 92.3\n",
            "------------------------------------\n",
            "이름\t필기\t실기\t총점\t평균\n",
            "차은우\t11.2\t92.3\t103.5\t51.8\n",
            "------------------------------------\n"
          ]
        }
      ]
    },
    {
      "cell_type": "markdown",
      "source": [
        "### 2. 체중과 신장을 실수로 입력받아, 신체질량지수 BMI(Body Mass Index)를 계산하여 출력하는 프로그램을 작성하세요."
      ],
      "metadata": {
        "id": "Hvxo-nh-91Qw"
      }
    },
    {
      "cell_type": "markdown",
      "source": [
        "<center> $BMI = 몸무게(kg) / 키(m)^2 $ </center>"
      ],
      "metadata": {
        "id": "QTVKyB4rBHMY"
      }
    },
    {
      "cell_type": "code",
      "execution_count": 5,
      "metadata": {
        "id": "IQYPlk4J9vA7",
        "colab": {
          "base_uri": "https://localhost:8080/",
          "height": 0
        },
        "outputId": "2a7e0078-150c-4b64-948b-6b3883411af0"
      },
      "outputs": [
        {
          "output_type": "stream",
          "name": "stdout",
          "text": [
            "체중을 입력하세요(kg): 120\n",
            "신장을 입력하세요(m): 1.68\n",
            "당신의 BMI는 42.52입니다.\n"
          ]
        }
      ],
      "source": [
        "weight = float(input('체중을 입력하세요(kg): '))\n",
        "height = float(input('신장을 입력하세요(m): '))\n",
        "print('당신의 BMI는 %.2f입니다.' %(weight / (height ** 2)))"
      ]
    },
    {
      "cell_type": "markdown",
      "source": [
        "위의 내용은 오늘 한 과제다.\n",
        "\n",
        "오늘 과제를 하면서 오류가 자꾸 났던 부분이 있다.\n",
        "\n",
        "조교님에게 여쭈어 봤다.\n",
        "\n",
        "셀이 연동되기 때문에 하나의 셀에서 변수로 int같은 걸 지정하면 뒤에 셀에 int()함수를 쓸 때 오류가 생긴다고 하셨다.\n",
        "\n",
        "솔직히 내가 위에 그런 것을 변수로 썼을 리도 없고 찾아보니까 있지도 않았다.\n",
        "\n",
        "그래도 해결이 안되니까 답답해서 셀의 위치를 바꾸었더니 되었다.\n",
        "\n",
        "셀의 위치가 상관없는 것은 안다.\n",
        "\n",
        "내 말은 위치를 바꾸고, 초기화를 하고, 위에서 부터 실행시켰더니 되었다는 말이다.\n",
        "\n",
        "아직도 오류가 왜 났는지는 모르지만 오늘 처음으로 파이썬 공부를 하면서 못풀겠는 오류를 마주친거 같다.\n",
        "\n",
        "앞으로 계속 공부를 하다보면 이런 일이 많겠지만 잘 해보려고 한다.\n",
        "\n",
        "그런 의미에서 오늘 공부는 이 과제로 퉁 쳐야겠다...\n",
        "\n",
        "너무 여기에 시간을 많이 썼어..."
      ],
      "metadata": {
        "id": "r2KUmKs_PDeY"
      }
    }
  ]
}