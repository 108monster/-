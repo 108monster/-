{
 "cells": [
  {
   "cell_type": "markdown",
   "id": "196a8b1a",
   "metadata": {},
   "source": [
    "# array 예제들"
   ]
  },
  {
   "cell_type": "markdown",
   "id": "5832d468",
   "metadata": {},
   "source": [
    "array랑 array가 요소의 수가 같으면 서로 더하거나 빼거나 곱하거나... 할 수 있다"
   ]
  },
  {
   "cell_type": "markdown",
   "id": "b6b73c2b",
   "metadata": {},
   "source": [
    "___\n",
    "# 실습 설명"
   ]
  },
  {
   "cell_type": "markdown",
   "id": "2b4e51e6",
   "metadata": {},
   "source": [
    "엔화(¥)로 저장한 매출 데이터를 원화(₩)로 변환하는 작업이 필요합니다.\n",
    "\n",
    " 엔화 매출이 담겨 있는 파이썬 리스트가 주어졌습니다. \n",
    " \n",
    " 1엔에 10.08원이라고 가정하고, 원화 매출이 담긴 numpy array를 만들어 출력해 주세요."
   ]
  },
  {
   "cell_type": "code",
   "execution_count": 1,
   "id": "aeab23ea",
   "metadata": {},
   "outputs": [
    {
     "data": {
      "text/plain": [
       "array([3024000., 3427200., 3225600., 3628800., 4435200., 1411200.,\n",
       "       1814400., 3427200., 3326400., 2923200., 2822400., 3830400.,\n",
       "       1713600., 1411200., 2318400., 3931200., 4032000., 3528000.,\n",
       "       3830400., 1512000., 1108800., 2419200., 3830400., 3830400.,\n",
       "       3427200., 4233600., 1512000., 1310400., 3628800., 3225600.,\n",
       "       2520000.])"
      ]
     },
     "execution_count": 1,
     "metadata": {},
     "output_type": "execute_result"
    }
   ],
   "source": [
    "import numpy as np\n",
    "\n",
    "revenue_in_yen = [\n",
    "    300000, 340000, 320000, 360000, \n",
    "    440000, 140000, 180000, 340000, \n",
    "    330000, 290000, 280000, 380000, \n",
    "    170000, 140000, 230000, 390000, \n",
    "    400000, 350000, 380000, 150000, \n",
    "    110000, 240000, 380000, 380000, \n",
    "    340000, 420000, 150000, 130000, \n",
    "    360000, 320000, 250000\n",
    "]\n",
    "\n",
    "revenue = np.array(revenue_in_yen)\n",
    "won_array = revenue * 10.08\n",
    "won_array"
   ]
  },
  {
   "cell_type": "markdown",
   "id": "a41d9897",
   "metadata": {},
   "source": [
    "array를 만드는 방법은 파이썬 리스트를 그냥 소괄호 안에 넣는 것이다\n",
    "\n",
    "그리고 왠지 모르겠지만 array를 만든 그 줄에 곱셈 연산자가지 넣으면 처리를 못한다\n",
    "\n",
    "따로 넣어줘야 하나보다"
   ]
  },
  {
   "cell_type": "markdown",
   "id": "dda27897",
   "metadata": {},
   "source": [
    "___\n",
    "# 실습 설명"
   ]
  },
  {
   "cell_type": "markdown",
   "id": "329a5f58",
   "metadata": {},
   "source": [
    "각 지점의 매출을 원화로 변환시키고 더해야 하죠. \n",
    "\n",
    "1엔에 10.08원, 1달러에 1138원이라고 가정하세요. \n",
    "\n",
    "그리고 두 지점의 매출의 합이 원화로 담긴 numpy array를 만들어 출력해주세요."
   ]
  },
  {
   "cell_type": "code",
   "execution_count": 2,
   "id": "098e9f02",
   "metadata": {},
   "outputs": [
    {
     "data": {
      "text/plain": [
       "array([4389600., 5248000., 4818800., 5108200., 6825000., 3004400.,\n",
       "       3521400., 5817000., 5033400., 4630200., 5439800., 6220200.,\n",
       "       4900000., 4370000., 4253000., 5524400., 6421800., 6145400.,\n",
       "       5651200., 3560400., 3612400., 5150400., 6220200., 7016800.,\n",
       "       5589400., 6623400., 3560400., 3814000., 6018600., 5046400.,\n",
       "       4568400.])"
      ]
     },
     "execution_count": 2,
     "metadata": {},
     "output_type": "execute_result"
    }
   ],
   "source": [
    "import numpy as np\n",
    "\n",
    "revenue_in_yen = [\n",
    "    300000, 340000, 320000, 360000, \n",
    "    440000, 140000, 180000, 340000, \n",
    "    330000, 290000, 280000, 380000, \n",
    "    170000, 140000, 230000, 390000, \n",
    "    400000, 350000, 380000, 150000, \n",
    "    110000, 240000, 380000, 380000, \n",
    "    340000, 420000, 150000, 130000, \n",
    "    360000, 320000, 250000\n",
    "]\n",
    "\n",
    "revenue_in_dollar = [\n",
    "    1200, 1600, 1400, 1300, \n",
    "    2100, 1400, 1500, 2100, \n",
    "    1500, 1500, 2300, 2100, \n",
    "    2800, 2600, 1700, 1400, \n",
    "    2100, 2300, 1600, 1800, \n",
    "    2200, 2400, 2100, 2800, \n",
    "    1900, 2100, 1800, 2200, \n",
    "    2100, 1600, 1800\n",
    "]\n",
    "\n",
    "yen_to = np.array(revenue_in_yen) \n",
    "dollar_to = np.array(revenue_in_dollar)\n",
    "yen_to_won = yen_to * 10.08\n",
    "dollar_to_won = dollar_to * 1138\n",
    "\n",
    "won_array = yen_to_won + dollar_to_won\n",
    "\n",
    "won_array"
   ]
  },
  {
   "cell_type": "markdown",
   "id": "e222c9d3",
   "metadata": {},
   "source": [
    "아 솔직히 리스트,사전,어레이 전부 다 지금 머리속에서 희미한데\n",
    "\n",
    "그냥 앞으로 계속 가야겠다. 어차피 익숙해져야하는 영역인거 같으니"
   ]
  },
  {
   "cell_type": "markdown",
   "id": "970f2477",
   "metadata": {},
   "source": [
    "___\n",
    "# numpy array 불린 연산"
   ]
  },
  {
   "cell_type": "code",
   "execution_count": 5,
   "id": "e5dfe9cf",
   "metadata": {},
   "outputs": [
    {
     "data": {
      "text/plain": [
       "array([False, False, False, False, False, False,  True,  True,  True,\n",
       "        True])"
      ]
     },
     "execution_count": 5,
     "metadata": {},
     "output_type": "execute_result"
    }
   ],
   "source": [
    "array1 = np.array([1, 2, 3, 4, 5, 6, 7, 8, 9, 10])\n",
    "array1 > 6"
   ]
  },
  {
   "cell_type": "markdown",
   "id": "0e7e6640",
   "metadata": {},
   "source": [
    "array에는 불린 값도 들어갈수가 있다"
   ]
  },
  {
   "cell_type": "code",
   "execution_count": 6,
   "id": "7ad85f36",
   "metadata": {},
   "outputs": [],
   "source": [
    "array_boolean = np.array([True, False, True, True, True])"
   ]
  },
  {
   "cell_type": "markdown",
   "id": "9b616ae1",
   "metadata": {},
   "source": [
    "np.where()이라는 것도 있다 이것은 괄호 안에 해당하는 인덱스를 리턴한다"
   ]
  },
  {
   "cell_type": "code",
   "execution_count": 7,
   "id": "d4739636",
   "metadata": {},
   "outputs": [
    {
     "data": {
      "text/plain": [
       "(array([0, 2, 3, 4], dtype=int64),)"
      ]
     },
     "execution_count": 7,
     "metadata": {},
     "output_type": "execute_result"
    }
   ],
   "source": [
    "index_array = np.where(array_boolean == True)"
   ]
  },
  {
   "cell_type": "markdown",
   "id": "8aa8620c",
   "metadata": {},
   "source": [
    "이거로 인덱스 array를 만들고 그걸 원래 array에 대괄호 후 넣어주면 그 인덱스의 값만 튀어나온다"
   ]
  },
  {
   "cell_type": "code",
   "execution_count": 9,
   "id": "be178379",
   "metadata": {},
   "outputs": [
    {
     "data": {
      "text/plain": [
       "array([ True,  True,  True,  True])"
      ]
     },
     "execution_count": 9,
     "metadata": {},
     "output_type": "execute_result"
    }
   ],
   "source": [
    "index_array = np.where(array_boolean == True)\n",
    "array_boolean[index_array]"
   ]
  },
  {
   "cell_type": "markdown",
   "id": "102f9f71",
   "metadata": {},
   "source": [
    "___\n",
    "# 실습 설명"
   ]
  },
  {
   "cell_type": "markdown",
   "id": "7deffb6b",
   "metadata": {},
   "source": [
    "성공적이지 않은 날의 매출만 골라서 보고 싶습니다. 20만 엔 이하의 매출만 담긴 numpy array를 출력해주세요."
   ]
  },
  {
   "cell_type": "code",
   "execution_count": 11,
   "id": "2cae6766",
   "metadata": {},
   "outputs": [
    {
     "data": {
      "text/plain": [
       "array([140000, 180000, 170000, 140000, 150000, 110000, 150000, 130000])"
      ]
     },
     "execution_count": 11,
     "metadata": {},
     "output_type": "execute_result"
    }
   ],
   "source": [
    "import numpy as np\n",
    "\n",
    "revenue = [\n",
    "    300000, 340000, 320000, 360000, \n",
    "    440000, 140000, 180000, 340000, \n",
    "    330000, 290000, 280000, 380000, \n",
    "    170000, 140000, 230000, 390000, \n",
    "    400000, 350000, 380000, 150000, \n",
    "    110000, 240000, 380000, 380000, \n",
    "    340000, 420000, 150000, 130000, \n",
    "    360000, 320000, 250000\n",
    "]\n",
    "\n",
    "revenue_in_yen = np.array(revenue)\n",
    "bad_days = np.where(revenue_in_yen < 200000)\n",
    "bad_days_revenue = revenue_in_yen[bad_days]\n",
    "bad_days_revenue"
   ]
  },
  {
   "cell_type": "markdown",
   "id": "699a8de8",
   "metadata": {},
   "source": [
    "자꾸 까먹는데 리스트 자체로는 못 쓴다. 한번 다시 array로 담아줘야 한다\n",
    "\n",
    "이름을 \n",
    "\n",
    "*_list*\n",
    "\n",
    "*_array*\n",
    "\n",
    "이런식으로 붙여줘서 구분해야겠다"
   ]
  },
  {
   "cell_type": "markdown",
   "id": "d71d3402",
   "metadata": {},
   "source": [
    "___\n",
    "# array랑 list"
   ]
  },
  {
   "cell_type": "markdown",
   "id": "40eb4b65",
   "metadata": {},
   "source": [
    "* list는 그냥 값을 추가하거나 제거할 때 사용하면 좋다\n",
    "* array는 복잡한 계산, 행렬같은 다차원의 배열일 경우에 사용하면 좋다"
   ]
  },
  {
   "cell_type": "markdown",
   "id": "af36e5c0",
   "metadata": {},
   "source": [
    "___\n",
    "# numpy 기본 통계"
   ]
  },
  {
   "cell_type": "code",
   "execution_count": 3,
   "id": "80782af2",
   "metadata": {},
   "outputs": [
    {
     "name": "stdout",
     "output_type": "stream",
     "text": [
      "2\n",
      "93\n",
      "38.57142857142857\n",
      "33.08369103115458\n",
      "1094.5306122448978\n",
      "30.0\n"
     ]
    }
   ],
   "source": [
    "import numpy as np\n",
    "array = np.array([2, 30, 73, 12, 93, 5, 55])\n",
    "print(array.min())\n",
    "print(array.max())\n",
    "print(array.mean())\n",
    "print(array.std())\n",
    "print(array.var())\n",
    "print(np.median(array))"
   ]
  },
  {
   "cell_type": "markdown",
   "id": "75cf5395",
   "metadata": {},
   "source": [
    "위에서 부터 순서대로\n",
    "\n",
    "*최소값*\n",
    "\n",
    "*최대값*\n",
    "\n",
    "*평균*\n",
    "\n",
    "*표준편차*\n",
    "\n",
    "*분산*\n",
    "\n",
    "*중앙값*\n",
    "\n",
    "이다"
   ]
  },
  {
   "cell_type": "code",
   "execution_count": null,
   "id": "32521ade",
   "metadata": {},
   "outputs": [],
   "source": []
  }
 ],
 "metadata": {
  "kernelspec": {
   "display_name": "Python 3 (ipykernel)",
   "language": "python",
   "name": "python3"
  },
  "language_info": {
   "codemirror_mode": {
    "name": "ipython",
    "version": 3
   },
   "file_extension": ".py",
   "mimetype": "text/x-python",
   "name": "python",
   "nbconvert_exporter": "python",
   "pygments_lexer": "ipython3",
   "version": "3.9.13"
  }
 },
 "nbformat": 4,
 "nbformat_minor": 5
}
